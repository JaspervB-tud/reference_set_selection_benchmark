{
 "cells": [
  {
   "cell_type": "code",
   "execution_count": null,
   "metadata": {},
   "outputs": [],
   "source": [
    "import os\n",
    "from Bio import SeqIO\n",
    "import time\n",
    "import matplotlib.pyplot\n",
    "import numpy as np\n",
    "import math"
   ]
  },
  {
   "cell_type": "markdown",
   "metadata": {},
   "source": [
    "# Getting started\n",
    "**NOTE**: we assume that the groundtruths are known since we base our results on simulations. In this, we assume that the user has access to a pair of files for every sample called `sample_sampleid_groundtruth_reads.tsv` and `sample_sampleid_groundtruth_folds` located in the corresponding sample files. These files are provided on [Zenodo](https://doi.org/10.5281/zenodo.14727633) for the experiments in our manuscript and have for every line a species taxid followed by the relative abundance (either read-based or fold-based), delimited by a tab. For the read-based groundtruths a third column is added with the absolute number of reads of every species."
   ]
  },
  {
   "cell_type": "code",
   "execution_count": null,
   "metadata": {},
   "outputs": [],
   "source": [
    "def read_groundtruth_reads(sample_number):\n",
    "    abundances = {}\n",
    "    read_totals = {}\n",
    "    with open(f\"samples/sample_{sample_number}/sample_{sample_number}_groundtruth_reads.tsv\", \"r\") as f_in:\n",
    "        for line in f_in:\n",
    "            line = line.strip().split(\"\\t\")\n",
    "            abundances[int(line[0])] = float(line[1])\n",
    "            read_totals[int(line[0])] = int(line[2])\n",
    "    return abundances, read_totals\n",
    "\n",
    "def read_groundtruth_folds(sample_number):\n",
    "    abundances = {}\n",
    "    with open(f\"samples/sample_{sample_number}/sample_{sample_number}_groundtruth_folds.tsv\", \"r\") as f_in:\n",
    "        for line in f_in:\n",
    "            line = line.strip().split(\"\\t\")\n",
    "            abundances[int(line[0])] = float(line[1])\n",
    "    return abundances\n",
    "\n",
    "# Gather groundtruth for example sample_1\n",
    "groundtruth_reads, groundtruth_totals = read_groundtruth_reads(1)\n",
    "groundtruth_folds = read_groundtruth_folds(1)"
   ]
  },
  {
   "cell_type": "markdown",
   "metadata": {},
   "source": [
    "## Bracken"
   ]
  },
  {
   "cell_type": "code",
   "execution_count": null,
   "metadata": {},
   "outputs": [],
   "source": [
    "def process_bracken()"
   ]
  }
 ],
 "metadata": {
  "kernelspec": {
   "display_name": "benchmark_processing",
   "language": "python",
   "name": "python3"
  },
  "language_info": {
   "name": "python",
   "version": "3.8.19"
  }
 },
 "nbformat": 4,
 "nbformat_minor": 2
}
