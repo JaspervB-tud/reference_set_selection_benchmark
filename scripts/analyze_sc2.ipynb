{
 "cells": [
  {
   "cell_type": "markdown",
   "metadata": {},
   "source": [
    "# Getting started\n",
    "**NOTE**: we assume that the groundtruths are known since we base our results on simulations. In this, we assume that the user has access to a file for every sample called `sample_sampleid_groundtruth.tsv` located in the corresponding sample folder. These groundtruth files are provided on [Zenodo](https://doi.org/10.5281/zenodo.14727633) for the experiments (folder structure: groundtruth_reads_SARS-CoV-2/Proximity-America_baseline/$abundance/$sample/groundtruth.tsv) in our manuscript and have for every line a lineage followed by the relative abundance."
   ]
  },
  {
   "cell_type": "code",
   "execution_count": null,
   "metadata": {},
   "outputs": [],
   "source": [
    "def read_groundtruth(sample_number):\n",
    "    abundances = {}\n",
    "    read_totals = {}\n",
    "    with open(f\"samples/sample_{sample_number}/sample_{sample_number}_groundtruth.tsv\", \"r\") as f_in:\n",
    "        for line in f_in:\n",
    "            line = line.strip().split(\"\\t\")\n",
    "            abundances[line[0]] = float(line[1])\n",
    "    return abundances\n",
    "\n",
    "# Gather groundtruth for example sample_1\n",
    "groundtruth = read_groundtruth(1)"
   ]
  },
  {
   "cell_type": "markdown",
   "metadata": {},
   "source": [
    "## VLQ output"
   ]
  },
  {
   "cell_type": "code",
   "execution_count": null,
   "metadata": {},
   "outputs": [],
   "source": [
    "def process_bracken(method_threshold, sample_number, groundtruth):\n",
    "    sample_lineages = list(groundtruth.keys()) #all species taxids of species that er IN sample\n",
    "    relevant_lineages = set(sample_lineages)\n",
    "\n",
    "    metrics = {\"l1\": 0, \"f1\": 0}\n",
    "    # F1-related metrics\n",
    "    tp = 0 \n",
    "    fp = 0\n",
    "    fn = 0\n",
    "    predictions = {} #predicted abundance for every species\n",
    "    errors = {}\n",
    "    total_abundance = 0\n",
    "\n",
    "    with open(f\"estimations/sample_{sample_number}/kallisto/{method_threshold}/abundance.tsv\", \"r\") as f_in:\n",
    "        next(f_in) #skip header\n",
    "        next(f_in) #skip header\n",
    "        next(f_in) #skip header\n",
    "        for line in f_in:\n",
    "            line = line.strip().split(\"\\t\")\n",
    "            cur_lineage = line[0]\n",
    "            relevant_lineages.append(line[0])\n",
    "            predictions[cur_lineage] = float(line[-1]) #we ran VLQ with a minimal required abundance of 0.1%\n",
    "            total_abundance += float(line[-1])\n",
    "\n",
    "    # Rescale estimations to enforce 100% total abundance\n",
    "    for lineage in predictions:\n",
    "        predictions[lineage] = predictions[lineage] * (100 / total_abundance)\n",
    "\n",
    "    # Calculate errors\n",
    "    for lineage in relevant_lineages:\n",
    "        if lineage in sample_lineages:\n",
    "            errors[lineage] = abs( (predictions[lineage] - groundtruth[lineage]) ) / 100\n",
    "            if predictions[lineage] > 0:\n",
    "                tp += 1\n",
    "            else:\n",
    "                fn += 1\n",
    "        else:\n",
    "            errors[lineage] = abs( predictions[lineage] ) / 100\n",
    "            if predictions[lineage] > 0:\n",
    "                fp += 1\n",
    "        metrics[\"l1\"] += errors[lineage]\n",
    "\n",
    "    try:\n",
    "        precision = tp / (tp + fp)\n",
    "    except:\n",
    "        precision = 0\n",
    "    try:\n",
    "        recall = tp / (tp + fn)\n",
    "    except:\n",
    "        recall = 0\n",
    "    try:\n",
    "        metrics[\"f1\"] = 2 * ((precision * recall) / (precision + recall))\n",
    "    except:\n",
    "        metrics[\"f1\"] = 0\n",
    "\n",
    "    return metrics"
   ]
  },
  {
   "cell_type": "markdown",
   "metadata": {},
   "source": []
  }
 ],
 "metadata": {
  "kernelspec": {
   "display_name": "benchmark_processing",
   "language": "python",
   "name": "python3"
  },
  "language_info": {
   "name": "python",
   "version": "3.8.19"
  }
 },
 "nbformat": 4,
 "nbformat_minor": 2
}
